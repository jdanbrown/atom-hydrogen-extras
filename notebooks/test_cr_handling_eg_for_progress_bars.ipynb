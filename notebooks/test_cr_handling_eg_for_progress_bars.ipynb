{
 "cells": [
  {
   "cell_type": "code",
   "execution_count": null,
   "metadata": {},
   "outputs": [
    {
     "name": "stdout",
     "output_type": "stream",
     "text": "\rAA"
    },
    {
     "name": "stdout",
     "output_type": "stream",
     "text": "\n"
    },
    {
     "name": "stdout",
     "output_type": "stream",
     "text": "BB\r"
    },
    {
     "name": "stdout",
     "output_type": "stream",
     "text": "\n"
    },
    {
     "name": "stdout",
     "output_type": "stream",
     "text": "CC"
    },
    {
     "name": "stdout",
     "output_type": "stream",
     "text": "\n"
    },
    {
     "name": "stdout",
     "output_type": "stream",
     "text": "\rDD"
    },
    {
     "name": "stdout",
     "output_type": "stream",
     "text": "\n"
    },
    {
     "name": "stdout",
     "output_type": "stream",
     "text": "\rE"
    },
    {
     "name": "stdout",
     "output_type": "stream",
     "text": "E"
    },
    {
     "name": "stdout",
     "output_type": "stream",
     "text": "\n"
    },
    {
     "name": "stdout",
     "output_type": "stream",
     "text": "F"
    },
    {
     "name": "stdout",
     "output_type": "stream",
     "text": "F\r"
    },
    {
     "name": "stdout",
     "output_type": "stream",
     "text": "\n"
    },
    {
     "name": "stdout",
     "output_type": "stream",
     "text": "G\r"
    },
    {
     "name": "stdout",
     "output_type": "stream",
     "text": "\nG"
    },
    {
     "name": "stdout",
     "output_type": "stream",
     "text": "\n"
    },
    {
     "name": "stdout",
     "output_type": "stream",
     "text": "\rX\n"
    },
    {
     "name": "stdout",
     "output_type": "stream",
     "text": "\rX\n"
    },
    {
     "name": "stdout",
     "output_type": "stream",
     "text": "\n"
    },
    {
     "name": "stdout",
     "output_type": "stream",
     "text": "\nY\r"
    },
    {
     "name": "stdout",
     "output_type": "stream",
     "text": "\nY\r"
    },
    {
     "name": "stdout",
     "output_type": "stream",
     "text": "\n"
    },
    {
     "name": "stdout",
     "output_type": "stream",
     "text": "\nz\r"
    },
    {
     "name": "stdout",
     "output_type": "stream",
     "text": "\rZZ\n"
    },
    {
     "name": "stdout",
     "output_type": "stream",
     "text": "\n"
    },
    {
     "name": "stdout",
     "output_type": "stream",
     "text": "\rW\n"
    },
    {
     "name": "stdout",
     "output_type": "stream",
     "text": "\nW\r"
    },
    {
     "name": "stdout",
     "output_type": "stream",
     "text": "\n"
    }
   ],
   "source": [
    "# Test:\n",
    "#   - No lowercase letters should display\n",
    "#   - All uppercase letters should display twice\n",
    "#   - Newlines aren't significant\n",
    "import sys\n",
    "def write(*xs):\n",
    "    for x in xs:\n",
    "        sys.stdout.write(x)\n",
    "        sys.stdout.flush()\n",
    "write('\\ra', '\\rAA', '\\n')\n",
    "write('b\\r', 'BB\\r', '\\n')\n",
    "write('c\\r', 'CC', '\\n')\n",
    "write('d', '\\rDD', '\\n')\n",
    "write('\\rE', 'E', '\\n')\n",
    "write('F', 'F\\r', '\\n')\n",
    "write('G\\r', '\\nG', '\\n')\n",
    "write('\\rX\\n', '\\rX\\n', '\\n')\n",
    "write('\\nY\\r', '\\nY\\r', '\\n')\n",
    "write('\\nz\\r', '\\rZZ\\n', '\\n')\n",
    "write('\\rW\\n', '\\nW\\r', '\\n')"
   ]
  },
  {
   "cell_type": "code",
   "execution_count": null,
   "metadata": {
    "time": "3.255s"
   },
   "outputs": [
    {
     "name": "stdout",
     "output_type": "stream",
     "text": "0.00 B 0:00:03 [0.00 B/s]\r\r\n"
    }
   ],
   "source": [
    "# Test:\n",
    "#   - Display shouldn't turn into a blank line at the end (pv prints like 'line\\r')\n",
    "!sleep 3 | pv -terb -f"
   ]
  },
  {
   "cell_type": "code",
   "execution_count": null,
   "metadata": {},
   "outputs": [
    {
     "name": "stderr",
     "output_type": "stream",
     "text": "\r100%|████████████████████████████████████████████████████████████████████████████████████| 5/5 [00:00<00:00,  9.79it/s]"
    },
    {
     "name": "stderr",
     "output_type": "stream",
     "text": "\n"
    }
   ],
   "source": [
    "import sys, time, tqdm\n",
    "for x in tqdm.tqdm(list(range(5))):\n",
    "    time.sleep(.1)\n",
    "    # sys.stderr.write('x'); sys.stderr.flush()\n",
    "    # sys.stderr.write('x\\n'); sys.stderr.flush()\n",
    "    # sys.stderr.write('\\nx'); sys.stderr.flush()\n",
    "    # sys.stdout.write('x\\n'); sys.stdout.flush()\n",
    "    # sys.stderr.write('\\nx\\n'); sys.stderr.flush()"
   ]
  },
  {
   "cell_type": "code",
   "execution_count": null,
   "metadata": {
    "time": "1.685s"
   },
   "outputs": [
    {
     "name": "stderr",
     "output_type": "stream",
     "text": "\r100%|████████████████████████████████████████████████████████████████████████████████████| 5/5 [00:00<00:00,  9.80it/s]"
    },
    {
     "name": "stderr",
     "output_type": "stream",
     "text": "\n\r  0%|                                                                                            | 0/5 [00:00<?, ?it/s]"
    },
    {
     "name": "stderr",
     "output_type": "stream",
     "text": "\r100%|████████████████████████████████████████████████████████████████████████████████████| 5/5 [00:00<00:00,  9.77it/s]"
    },
    {
     "name": "stderr",
     "output_type": "stream",
     "text": "\n"
    },
    {
     "name": "stdout",
     "output_type": "stream",
     "text": "foo\n"
    },
    {
     "name": "stderr",
     "output_type": "stream",
     "text": "\r100%|████████████████████████████████████████████████████████████████████████████████████| 5/5 [00:00<00:00,  9.77it/s]"
    },
    {
     "name": "stderr",
     "output_type": "stream",
     "text": "\n"
    }
   ],
   "source": [
    "import sys, time, tqdm\n",
    "for x in tqdm.tqdm(list(range(5))):\n",
    "    time.sleep(.1)\n",
    "for x in tqdm.tqdm(list(range(5))):\n",
    "    time.sleep(.1)\n",
    "sys.stderr.flush(); print('foo'); sys.stdout.flush()\n",
    "for x in tqdm.tqdm(list(range(5))):\n",
    "    time.sleep(.1)"
   ]
  },
  {
   "cell_type": "code",
   "execution_count": null,
   "metadata": {},
   "outputs": [],
   "source": []
  }
 ],
 "metadata": {
  "kernelspec": {
   "display_name": "dan (PYTHONSTARTUP)",
   "language": "python",
   "name": "dan (PYTHONSTARTUP)"
  }
 },
 "nbformat": 4,
 "nbformat_minor": 2
}
